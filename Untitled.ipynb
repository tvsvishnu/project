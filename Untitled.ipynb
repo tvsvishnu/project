{
 "cells": [
  {
   "cell_type": "code",
   "execution_count": 1,
   "metadata": {},
   "outputs": [
    {
     "name": "stdout",
     "output_type": "stream",
     "text": [
      " Volume in drive C is Windows\n",
      " Volume Serial Number is D0A0-90EF\n",
      "\n",
      " Directory of C:\\Users\\tvsvi\\Desktop\\Project Files\\GCN\\GCN-M-main\n",
      "\n",
      "08-04-2023  10:54 AM    <DIR>          .\n",
      "17-03-2023  03:22 PM    <DIR>          ..\n",
      "08-04-2023  10:52 AM    <DIR>          .ipynb_checkpoints\n",
      "17-03-2023  03:22 PM            12,288 .main.py.swp\n",
      "17-03-2023  03:22 PM    <DIR>          configs\n",
      "22-03-2023  10:00 PM    <DIR>          data\n",
      "17-03-2023  03:29 PM    <DIR>          Datasets\n",
      "22-03-2023  10:00 PM    <DIR>          exp\n",
      "17-03-2023  03:22 PM            11,357 LICENSE\n",
      "17-03-2023  03:22 PM               858 main.py\n",
      "22-03-2023  10:03 PM    <DIR>          models\n",
      "17-03-2023  03:22 PM             1,355 README.md\n",
      "17-03-2023  03:22 PM               101 requirements.txt\n",
      "07-04-2023  06:53 PM    <DIR>          results\n",
      "08-04-2023  10:54 AM               555 Untitled.ipynb\n",
      "17-03-2023  03:22 PM    <DIR>          utils\n",
      "               6 File(s)         26,514 bytes\n",
      "              10 Dir(s)  62,254,559,232 bytes free\n"
     ]
    }
   ],
   "source": [
    "ls"
   ]
  },
  {
   "cell_type": "code",
   "execution_count": 5,
   "metadata": {},
   "outputs": [
    {
     "name": "stdout",
     "output_type": "stream",
     "text": [
      "Collecting torch\n",
      "  Downloading torch-2.0.0-cp38-cp38-win_amd64.whl (172.3 MB)\n"
     ]
    },
    {
     "name": "stderr",
     "output_type": "stream",
     "text": [
      "ERROR: Exception:\n",
      "Traceback (most recent call last):\n",
      "  File \"C:\\Users\\tvsvi\\anaconda3\\lib\\site-packages\\pip\\_vendor\\urllib3\\response.py\", line 425, in _error_catcher\n",
      "    yield\n",
      "  File \"C:\\Users\\tvsvi\\anaconda3\\lib\\site-packages\\pip\\_vendor\\urllib3\\response.py\", line 507, in read\n",
      "    data = self._fp.read(amt) if not fp_closed else b\"\"\n",
      "  File \"C:\\Users\\tvsvi\\anaconda3\\lib\\site-packages\\pip\\_vendor\\cachecontrol\\filewrapper.py\", line 62, in read\n",
      "    data = self.__fp.read(amt)\n",
      "  File \"C:\\Users\\tvsvi\\anaconda3\\lib\\http\\client.py\", line 454, in read\n",
      "    n = self.readinto(b)\n",
      "  File \"C:\\Users\\tvsvi\\anaconda3\\lib\\http\\client.py\", line 498, in readinto\n",
      "    n = self.fp.readinto(b)\n",
      "  File \"C:\\Users\\tvsvi\\anaconda3\\lib\\socket.py\", line 669, in readinto\n",
      "    return self._sock.recv_into(b)\n",
      "  File \"C:\\Users\\tvsvi\\anaconda3\\lib\\ssl.py\", line 1241, in recv_into\n",
      "    return self.read(nbytes, buffer)\n",
      "  File \"C:\\Users\\tvsvi\\anaconda3\\lib\\ssl.py\", line 1099, in read\n",
      "    return self._sslobj.read(len, buffer)\n",
      "socket.timeout: The read operation timed out\n",
      "\n",
      "During handling of the above exception, another exception occurred:\n",
      "\n",
      "Traceback (most recent call last):\n",
      "  File \"C:\\Users\\tvsvi\\anaconda3\\lib\\site-packages\\pip\\_internal\\cli\\base_command.py\", line 188, in _main\n",
      "    status = self.run(options, args)\n",
      "  File \"C:\\Users\\tvsvi\\anaconda3\\lib\\site-packages\\pip\\_internal\\cli\\req_command.py\", line 185, in wrapper\n",
      "    return func(self, options, args)\n",
      "  File \"C:\\Users\\tvsvi\\anaconda3\\lib\\site-packages\\pip\\_internal\\commands\\install.py\", line 332, in run\n",
      "    requirement_set = resolver.resolve(\n",
      "  File \"C:\\Users\\tvsvi\\anaconda3\\lib\\site-packages\\pip\\_internal\\resolution\\legacy\\resolver.py\", line 179, in resolve\n",
      "    discovered_reqs.extend(self._resolve_one(requirement_set, req))\n",
      "  File \"C:\\Users\\tvsvi\\anaconda3\\lib\\site-packages\\pip\\_internal\\resolution\\legacy\\resolver.py\", line 362, in _resolve_one\n",
      "    abstract_dist = self._get_abstract_dist_for(req_to_install)\n",
      "  File \"C:\\Users\\tvsvi\\anaconda3\\lib\\site-packages\\pip\\_internal\\resolution\\legacy\\resolver.py\", line 314, in _get_abstract_dist_for\n",
      "    abstract_dist = self.preparer.prepare_linked_requirement(req)\n",
      "  File \"C:\\Users\\tvsvi\\anaconda3\\lib\\site-packages\\pip\\_internal\\operations\\prepare.py\", line 467, in prepare_linked_requirement\n",
      "    local_file = unpack_url(\n",
      "  File \"C:\\Users\\tvsvi\\anaconda3\\lib\\site-packages\\pip\\_internal\\operations\\prepare.py\", line 255, in unpack_url\n",
      "    file = get_http_url(\n",
      "  File \"C:\\Users\\tvsvi\\anaconda3\\lib\\site-packages\\pip\\_internal\\operations\\prepare.py\", line 129, in get_http_url\n",
      "    from_path, content_type = _download_http_url(\n",
      "  File \"C:\\Users\\tvsvi\\anaconda3\\lib\\site-packages\\pip\\_internal\\operations\\prepare.py\", line 281, in _download_http_url\n",
      "    for chunk in download.chunks:\n",
      "  File \"C:\\Users\\tvsvi\\anaconda3\\lib\\site-packages\\pip\\_internal\\cli\\progress_bars.py\", line 166, in iter\n",
      "    for x in it:\n",
      "  File \"C:\\Users\\tvsvi\\anaconda3\\lib\\site-packages\\pip\\_internal\\network\\utils.py\", line 15, in response_chunks\n",
      "    for chunk in response.raw.stream(\n",
      "  File \"C:\\Users\\tvsvi\\anaconda3\\lib\\site-packages\\pip\\_vendor\\urllib3\\response.py\", line 564, in stream\n",
      "    data = self.read(amt=amt, decode_content=decode_content)\n",
      "  File \"C:\\Users\\tvsvi\\anaconda3\\lib\\site-packages\\pip\\_vendor\\urllib3\\response.py\", line 529, in read\n",
      "    raise IncompleteRead(self._fp_bytes_read, self.length_remaining)\n",
      "  File \"C:\\Users\\tvsvi\\anaconda3\\lib\\contextlib.py\", line 131, in __exit__\n",
      "    self.gen.throw(type, value, traceback)\n",
      "  File \"C:\\Users\\tvsvi\\anaconda3\\lib\\site-packages\\pip\\_vendor\\urllib3\\response.py\", line 430, in _error_catcher\n",
      "    raise ReadTimeoutError(self._pool, None, \"Read timed out.\")\n",
      "pip._vendor.urllib3.exceptions.ReadTimeoutError: HTTPSConnectionPool(host='files.pythonhosted.org', port=443): Read timed out.\n",
      "Traceback (most recent call last):\n",
      "  File \"main.py\", line 3, in <module>\n",
      "    import torch\n",
      "ModuleNotFoundError: No module named 'torch'\n"
     ]
    }
   ],
   "source": [
    "!pip install torch\n",
    "!python main.py --config configs/METR_LA_GCNM.conf --itr 1"
   ]
  },
  {
   "cell_type": "code",
   "execution_count": null,
   "metadata": {},
   "outputs": [],
   "source": []
  }
 ],
 "metadata": {
  "kernelspec": {
   "display_name": "Python 3",
   "language": "python",
   "name": "python3"
  },
  "language_info": {
   "codemirror_mode": {
    "name": "ipython",
    "version": 3
   },
   "file_extension": ".py",
   "mimetype": "text/x-python",
   "name": "python",
   "nbconvert_exporter": "python",
   "pygments_lexer": "ipython3",
   "version": "3.8.3"
  }
 },
 "nbformat": 4,
 "nbformat_minor": 4
}
